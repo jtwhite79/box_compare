{
 "cells": [
  {
   "cell_type": "code",
   "execution_count": 1,
   "metadata": {},
   "outputs": [
    {
     "name": "stderr",
     "output_type": "stream",
     "text": [
      "Using TensorFlow backend.\n"
     ]
    }
   ],
   "source": [
    "import sys\n",
    "import os\n",
    "import shutil\n",
    "import numpy as np\n",
    "import pandas as pd\n",
    "import matplotlib.pyplot as plt\n",
    "from matplotlib.backends.backend_pdf import PdfPages\n",
    "#from tensorflow import keras\n",
    "#to not use the gpu\n",
    "os.environ['CUDA_VISIBLE_DEVICES'] = '-1'\n",
    "import keras\n",
    "import flopy\n",
    "import pyemu"
   ]
  },
  {
   "cell_type": "code",
   "execution_count": 2,
   "metadata": {},
   "outputs": [],
   "source": [
    "npar = 200\n",
    "nrow,ncol = 80,50"
   ]
  },
  {
   "cell_type": "code",
   "execution_count": 3,
   "metadata": {},
   "outputs": [],
   "source": [
    "gen_name = \"gen_88.h5\"\n",
    "gen_d = \".\"\n",
    "generator = keras.models.load_model(os.path.join(gen_d,gen_name))"
   ]
  },
  {
   "cell_type": "code",
   "execution_count": 4,
   "metadata": {},
   "outputs": [
    {
     "data": {
      "image/png": "[encoded data removed]",
      "text/plain": [
       "<Figure size 720x720 with 10 Axes>"
      ]
     },
     "metadata": {
      "needs_background": "light"
     },
     "output_type": "display_data"
    }
   ],
   "source": [
    "np.random.seed = 1123445\n",
    "truths = np.random.randn(10,npar)\n",
    "truth_vecs = generator.predict(truths)\n",
    "fig, axes = plt.subplots(nrows=1,ncols=10,figsize = (10,10))\n",
    "for ax,vec in zip(axes.flatten(),truth_vecs.reshape(10,nrow,ncol)):\n",
    "    ax.imshow(vec)\n",
    "    ax.set_xticklabels([])\n",
    "    ax.set_yticklabels([])\n",
    "    "
   ]
  },
  {
   "cell_type": "markdown",
   "metadata": {},
   "source": [
    "### mod the existing pest interface to use the gan par scheme"
   ]
  },
  {
   "cell_type": "code",
   "execution_count": 6,
   "metadata": {},
   "outputs": [
    {
     "data": {
      "text/plain": [
       "'temp_gan1'"
      ]
     },
     "execution_count": 6,
     "metadata": {},
     "output_type": "execute_result"
    }
   ],
   "source": [
    "model_ws = \"temp_gan1\"\n",
    "if os.path.exists(model_ws):\n",
    "    shutil.rmtree(model_ws)\n",
    "shutil.copytree(\"template_grid_ies\",model_ws)\n",
    "#os.remove(os.path.join(model_ws,\"prior.jcb\"))"
   ]
  },
  {
   "cell_type": "code",
   "execution_count": 7,
   "metadata": {},
   "outputs": [],
   "source": [
    "with open(os.path.join(model_ws,\"par.dat.tpl\"),'w') as f:\n",
    "    f.write(\"ptf ~\\n\")\n",
    "    [f.write(\"~ par_{0:03d}   ~\\n\".format(ipar)) for ipar in range(npar)]\n",
    "with open(os.path.join(model_ws,\"par.dat\"),'w') as f:\n",
    "    [f.write(\"{0:15.6E}\\n\".format(ipar)) for ipar in truths[4,:]]"
   ]
  },
  {
   "cell_type": "markdown",
   "metadata": {},
   "source": [
    "prep the forward run call"
   ]
  },
  {
   "cell_type": "code",
   "execution_count": 8,
   "metadata": {},
   "outputs": [],
   "source": [
    "with open(os.path.join(model_ws,\"apply_gan.py\"),'w') as f:\n",
    "    f.write(\"import os\\n\")\n",
    "    f.write(\"os.environ['CUDA_VISIBLE_DEVICES'] = '-1'\\n\")\n",
    "    f.write(\"import numpy as np\\nimport keras\\n\")\n",
    "    f.write(\"def apply():\\n\")\n",
    "    f.write(\"    gen = keras.models.load_model('{0}')\\n\".format(gen_name))\n",
    "    f.write(\"    vals = np.atleast_2d(np.loadtxt('par.dat'))\\n\") \n",
    "    f.write(\"    print(vals.shape)\\n\")\n",
    "    f.write(\"    vec = gen.predict(vals).reshape({0},{1})\\n\".format(nrow,ncol))\n",
    "    f.write(\"    np.savetxt('hk.ref',10**vec)\\n\")\n",
    "    f.write(\"    return vec\\n\")\n",
    "    f.write(\"if __name__ == '__main__':\\n\")\n",
    "    f.write(\"    apply()\\n\")\n",
    "shutil.copy2(os.path.join(gen_d,gen_name),os.path.join(model_ws,gen_name))  \n",
    "bat_file = os.path.join(model_ws,\"model.bat\")\n",
    "with open(bat_file,'r') as f:\n",
    "    lines = f.readlines()\n",
    "lines.insert(0,\"python apply_gan.py\\n\")\n",
    "with open(bat_file,'w') as f:\n",
    "    [f.write(line) for line in lines]\n",
    "    "
   ]
  },
  {
   "cell_type": "code",
   "execution_count": 9,
   "metadata": {},
   "outputs": [
    {
     "name": "stdout",
     "output_type": "stream",
     "text": [
      "(1, 200)\n"
     ]
    },
    {
     "data": {
      "image/png": "[encoded data removed]",
      "text/plain": [
       "<Figure size 432x288 with 1 Axes>"
      ]
     },
     "metadata": {
      "needs_background": "light"
     },
     "output_type": "display_data"
    }
   ],
   "source": [
    "bd = os.getcwd()\n",
    "try:\n",
    "    \n",
    "    os.chdir(model_ws)\n",
    "    import apply_gan\n",
    "    import importlib # incase apply_gan.py has changed...\n",
    "    importlib.reload(apply_gan)\n",
    "    hk = apply_gan.apply()\n",
    "except Exception as e:\n",
    "    print(str(e))\n",
    "    os.chdir(bd)\n",
    "\n",
    "os.chdir(bd)\n",
    "\n",
    "ax1 = plt.subplot(121)\n",
    "ax1.imshow(hk)\n",
    "plt.show()"
   ]
  },
  {
   "cell_type": "markdown",
   "metadata": {},
   "source": [
    "Mod the pest control file"
   ]
  },
  {
   "cell_type": "code",
   "execution_count": 17,
   "metadata": {},
   "outputs": [
    {
     "name": "stderr",
     "output_type": "stream",
     "text": [
      "C:\\ProgramData\\Anaconda3\\lib\\site-packages\\pandas\\core\\frame.py:6211: FutureWarning: Sorting because non-concatenation axis is not aligned. A future version\n",
      "of pandas will change to not sort by default.\n",
      "\n",
      "To accept the future behavior, pass 'sort=False'.\n",
      "\n",
      "To retain the current behavior and silence the warning, pass 'sort=True'.\n",
      "\n",
      "  sort=sort)\n"
     ]
    }
   ],
   "source": [
    "pst = pyemu.Pst(os.path.join(model_ws,\"new.pst\"))\n",
    "pst.pestpp_options = {}\n",
    "pst.template_files = [\"wel.dat.tpl\",\"par.dat.tpl\"]\n",
    "pst.input_files = [\"wel.dat\",\"par.dat\"]\n",
    "par = pst.parameter_data\n",
    "not_par = par.loc[par.parnme.apply(lambda x: not x.startswith(\"gr\")),\"parnme\"]\n",
    "pst.parameter_data = par.loc[not_par,:]\n",
    "pst.parameter_data.loc[:,\"pargp\"] = 'welflux'\n",
    "df = pst.add_parameters(os.path.join(model_ws,\"par.dat.tpl\"),os.path.join(model_ws,\"par.dat\"),pst_path=\".\")\n",
    "par = pst.parameter_data\n",
    "par.loc[df.parnme,\"partrans\"] = \"none\"\n",
    "par.loc[df.parnme,\"parubnd\"] = 4.0\n",
    "par.loc[df.parnme,\"parlbnd\"] = -4.0\n",
    "par.loc[df.parnme,\"parval1\"] = 0.0\n",
    "par.loc[df.parnme,\"pargp\"] = \"gan\"\n",
    "par.sort_values(by=\"parnme\",inplace=True)\n"
   ]
  },
  {
   "cell_type": "markdown",
   "metadata": {},
   "source": [
    "Make a new instruction file to track the hk values"
   ]
  },
  {
   "cell_type": "code",
   "execution_count": 18,
   "metadata": {
    "scrolled": true
   },
   "outputs": [
    {
     "name": "stdout",
     "output_type": "stream",
     "text": [
      "error using inschek for instruction file .\\hk.ref.ins:run() returned non-zero\n",
      "observations in this instruction file will havegeneric values.\n"
     ]
    }
   ],
   "source": [
    "ins_file = os.path.join(model_ws,\"hk.ref.ins\")\n",
    "with open(ins_file,'w') as f:\n",
    "    f.write(\"pif ~\\n\")\n",
    "    for i in range(nrow):\n",
    "        f.write(\"l1 \")\n",
    "        for j in range(ncol):\n",
    "            oname = \"hk_{0:03d}_{1:03d}\".format(i,j)\n",
    "            f.write(\" !{0}!\".format(oname))\n",
    "        f.write(\"\\n\")\n",
    "df = pst.add_observations(ins_file,ins_file.replace(\".ins\",\"\"),pst_path='.')\n",
    "pst.observation_data.loc[df.obsnme,\"weight\"] = 0.0"
   ]
  },
  {
   "cell_type": "code",
   "execution_count": 19,
   "metadata": {},
   "outputs": [
    {
     "name": "stdout",
     "output_type": "stream",
     "text": [
      "noptmax: 0\n"
     ]
    }
   ],
   "source": [
    "pst.control_data.noptmax = 0\n",
    "pst.write(os.path.join(model_ws,\"new_gan.pst\"))\n",
    "pyemu.os_utils.run(\"pestpp new_gan.pst\",cwd=model_ws)"
   ]
  },
  {
   "cell_type": "markdown",
   "metadata": {},
   "source": [
    "Run a sweep"
   ]
  },
  {
   "cell_type": "code",
   "execution_count": 20,
   "metadata": {},
   "outputs": [
    {
     "name": "stdout",
     "output_type": "stream",
     "text": [
      "noptmax: -1\n"
     ]
    }
   ],
   "source": [
    "pst.control_data.noptmax = -1\n",
    "pst.pestpp_options = {\"ies_num_reals\":500,\"par_sigma_range\":8.0}\n",
    "pst.write(os.path.join(model_ws,\"new_gan.pst\"))\n",
    "m_d = \"master_gan_sweep\"\n",
    "pyemu.os_utils.start_slaves(model_ws,\"pestpp-ies\",\"new_gan.pst\",num_slaves=10,port=4020,master_dir=m_d)"
   ]
  },
  {
   "cell_type": "code",
   "execution_count": 21,
   "metadata": {},
   "outputs": [
    {
     "name": "stderr",
     "output_type": "stream",
     "text": [
      "C:\\ProgramData\\Anaconda3\\lib\\site-packages\\IPython\\core\\interactiveshell.py:3020: DtypeWarning: Columns (0) have mixed types. Specify dtype option on import or set low_memory=False.\n",
      "  interactivity=interactivity, compiler=compiler, result=result)\n"
     ]
    },
    {
     "data": {
      "text/plain": [
       "274"
      ]
     },
     "execution_count": 21,
     "metadata": {},
     "output_type": "execute_result"
    },
    {
     "data": {
      "image/png": "[encoded data removed]",
      "text/plain": [
       "<Figure size 432x288 with 2 Axes>"
      ]
     },
     "metadata": {
      "needs_background": "light"
     },
     "output_type": "display_data"
    }
   ],
   "source": [
    "oe = pd.read_csv(os.path.join(m_d,\"new_gan.0.obs.csv\"))\n",
    "oe.columns = oe.columns.str.lower()\n",
    "pe = pd.read_csv(os.path.join(m_d,\"new_gan.0.par.csv\"))\n",
    "pe.columns = pe.columns.str.lower()\n",
    "\n",
    "oe.loc[:,[\"part_time\",\"part_east\"]].hist()\n",
    "oe.loc[oe.part_east==oe.part_east.min(),[\"part_time\",\"part_east\"]]\n",
    "truth_real = oe.loc[oe.part_east==oe.part_east.min(),\"real_name\"].astype(int).values[0]\n",
    "truth_real"
   ]
  },
  {
   "cell_type": "code",
   "execution_count": 22,
   "metadata": {},
   "outputs": [
    {
     "data": {
      "image/png": "[encoded data removed]",
      "text/plain": [
       "<Figure size 432x288 with 1 Axes>"
      ]
     },
     "metadata": {
      "needs_background": "light"
     },
     "output_type": "display_data"
    }
   ],
   "source": [
    "obs = pst.observation_data\n",
    "hk_obs = obs.loc[obs.obsnme.apply(lambda x: x.startswith(\"hk\")),[\"obsnme\"]]\n",
    "hk_obs.loc[:,'i'] = hk_obs.obsnme.apply(lambda x: int(x.split('_')[1]))\n",
    "hk_obs.loc[:,'j'] = hk_obs.obsnme.apply(lambda x: int(x.split('_')[2]))\n",
    "arr = np.zeros((nrow,ncol))\n",
    "arr[hk_obs.i,hk_obs.j] = oe.loc[truth_real,hk_obs.obsnme]\n",
    "plt.imshow(arr)\n",
    "truth_arr = arr"
   ]
  },
  {
   "cell_type": "code",
   "execution_count": 23,
   "metadata": {},
   "outputs": [
    {
     "name": "stdout",
     "output_type": "stream",
     "text": [
      "noptmax: 0\n"
     ]
    }
   ],
   "source": [
    "pst = pyemu.Pst(os.path.join(model_ws,\"new_gan.pst\"))\n",
    "oe.index = oe.real_name\n",
    "pe.index = pe.real_name\n",
    "pst.parameter_data.loc[:,\"parval1\"] = pe.loc[str(truth_real),pst.par_names]\n",
    "pst.observation_data.loc[:,\"obsval\"] = oe.loc[str(truth_real),pst.obs_names]\n",
    "pst.control_data.noptmax = 0\n",
    "pst.write(os.path.join(model_ws,\"new_gan_truth.pst\"))\n",
    "pyemu.os_utils.run(\"pestpp new_gan_truth.pst\",cwd=model_ws)"
   ]
  },
  {
   "cell_type": "code",
   "execution_count": 24,
   "metadata": {},
   "outputs": [
    {
     "data": {
      "text/plain": [
       "5.22800000034184e-09"
      ]
     },
     "execution_count": 24,
     "metadata": {},
     "output_type": "execute_result"
    },
    {
     "data": {
      "image/png": "[encoded data removed]",
      "text/plain": [
       "<Figure size 432x288 with 1 Axes>"
      ]
     },
     "metadata": {
      "needs_background": "light"
     },
     "output_type": "display_data"
    }
   ],
   "source": [
    "pst = pyemu.Pst(os.path.join(model_ws,\"new_gan_truth.pst\"))\n",
    "arr = np.zeros((nrow,ncol))\n",
    "arr[hk_obs.i,hk_obs.j] = pst.res.loc[hk_obs.obsnme,\"modelled\"]\n",
    "plt.imshow(arr)\n",
    "pst.phi"
   ]
  },
  {
   "cell_type": "markdown",
   "metadata": {},
   "source": [
    "now for some ies fun..."
   ]
  },
  {
   "cell_type": "code",
   "execution_count": 25,
   "metadata": {},
   "outputs": [
    {
     "name": "stdout",
     "output_type": "stream",
     "text": [
      "noptmax: 6\n"
     ]
    }
   ],
   "source": [
    "par = pst.parameter_data\n",
    "par.loc[par.pargp==\"gan\",\"parval1\"] = 0.0 #so the base real doesn't fit perfectly\n",
    "pst.pestpp_options = {}\n",
    "pst.pestpp_options[\"par_sigma_range\"] = 8.0\n",
    "pst.pestpp_options[\"ies_num_reals\"] = 50\n",
    "pst.pestpp_options[\"ies_lambda_mults\"] = [0.1,1.0,2.0]\n",
    "pst.pestpp_options[\"lambda_scale_fac\"] = [0.5,0.75,1.0]\n",
    "pst.control_data.noptmax = 6\n",
    "pst.write(os.path.join(model_ws,\"new_gan_ies.pst\"))"
   ]
  },
  {
   "cell_type": "code",
   "execution_count": 26,
   "metadata": {},
   "outputs": [],
   "source": [
    "m_d = \"master_gan_ies\"\n",
    "pyemu.os_utils.start_slaves(model_ws,\"pestpp-ies\",\"new_gan_ies.pst\",num_slaves=10,master_dir=m_d)"
   ]
  },
  {
   "cell_type": "code",
   "execution_count": 27,
   "metadata": {},
   "outputs": [],
   "source": [
    "pst = pyemu.Pst(os.path.join(model_ws,\"new_gan_ies.pst\"))"
   ]
  },
  {
   "cell_type": "code",
   "execution_count": 28,
   "metadata": {},
   "outputs": [
    {
     "data": {
      "text/plain": [
       "7"
      ]
     },
     "execution_count": 28,
     "metadata": {},
     "output_type": "execute_result"
    }
   ],
   "source": [
    "obs_en_names = [f for f in os.listdir(m_d) if f.endswith(\".obs.csv\") and \"base\" not in f and \"mean\" not in f]\n",
    "obs_en = [pd.read_csv(os.path.join(m_d,f)) for f in obs_en_names]\n",
    "len(obs_en)"
   ]
  },
  {
   "cell_type": "code",
   "execution_count": 29,
   "metadata": {},
   "outputs": [],
   "source": [
    "obs = pst.observation_data\n",
    "hk_obs = obs.loc[obs.obsnme.apply(lambda x: x.startswith(\"hk\")),:].copy()\n",
    "hk_obs.loc[:,\"i\"] = hk_obs.obsnme.apply(lambda x: int(x.split('_')[1]))\n",
    "hk_obs.loc[:,\"j\"] = hk_obs.obsnme.apply(lambda x: int(x.split('_')[2]))"
   ]
  },
  {
   "cell_type": "code",
   "execution_count": 30,
   "metadata": {},
   "outputs": [
    {
     "name": "stdout",
     "output_type": "stream",
     "text": [
      "(7, 12) 7\n",
      "new_gan_ies.0.obs.csv\n",
      "new_gan_ies.1.obs.csv\n",
      "new_gan_ies.2.obs.csv\n",
      "new_gan_ies.3.obs.csv\n",
      "new_gan_ies.4.obs.csv\n",
      "new_gan_ies.5.obs.csv\n",
      "new_gan_ies.6.obs.csv\n"
     ]
    }
   ],
   "source": [
    "plt.close(\"all\")\n",
    "with PdfPages(os.path.join(m_d,\"iter_compare.pdf\")) as pdf:\n",
    "\n",
    "    plt_rows = len(obs_en)\n",
    "    fig,axes = plt.subplots(nrows=plt_rows,ncols=12,figsize=(10,10),subplot_kw={\"aspect\":\"equal\"})\n",
    "    print(axes.shape,len(obs_en))\n",
    "    for i,oe in enumerate(obs_en):\n",
    "        print(obs_en_names[i])\n",
    "        oe.columns = oe.columns.str.lower()\n",
    "        phi_vector = pyemu.ObservationEnsemble.from_dataframe(df=oe,pst=pst).phi_vector\n",
    "        ax = axes[i,1]\n",
    "        ax.imshow(truth_arr)\n",
    "        ax.set_title(\"truth\")\n",
    "        for j,idx in enumerate(oe.index[:10]):\n",
    "            ax = axes[i,j+2]\n",
    "            arr = np.zeros((nrow,ncol))\n",
    "            arr[hk_obs.i,hk_obs.j] = oe.loc[idx,hk_obs.obsnme]\n",
    "            ax.imshow(arr)#,vmax = truth_vec.max(),vmin=truth_vec.min())\n",
    "            ax.set_title(\"{0:5.1f}\".format(phi_vector[j]))\n",
    "        ax = axes[i,0]\n",
    "        for oname in pst.nnz_obs_names:\n",
    "            oval = pst.observation_data.loc[oname,\"obsval\"]\n",
    "            [ax.plot([oval,oval],[oe.loc[:,oname].min(),oe.loc[:,oname].max()],\"b-\",alpha=0.5)]\n",
    "        xlim = ax.get_xlim()\n",
    "        ax.set_ylim(*xlim)\n",
    "        ax.plot([xlim[0],xlim[1]],[xlim[0],xlim[1]],\"k--\",lw=2.0)\n",
    "        ax.set_title(\"iter {0}\".format(i))\n",
    "\n",
    "\n",
    "    for ax in axes.flatten():\n",
    "       ax.set_xticklabels([])\n",
    "       ax.set_yticklabels([])\n",
    "    pdf.savefig()\n",
    "plt.close(fig)"
   ]
  },
  {
   "cell_type": "code",
   "execution_count": 42,
   "metadata": {},
   "outputs": [
    {
     "data": {
      "image/png": "[encoded data removed]",
      "text/plain": [
       "<Figure size 432x288 with 1 Axes>"
      ]
     },
     "metadata": {
      "needs_background": "light"
     },
     "output_type": "display_data"
    },
    {
     "data": {
      "image/png": "[encoded data removed]",
      "text/plain": [
       "<Figure size 432x288 with 1 Axes>"
      ]
     },
     "metadata": {
      "needs_background": "light"
     },
     "output_type": "display_data"
    }
   ],
   "source": [
    "fnames = [\"part_time\",\"part_east\"]\n",
    "for name in fnames:\n",
    "    fig,ax = plt.subplots()\n",
    "    truth = obs.loc[name,\"obsval\"]\n",
    "    obs_en[0].loc[:,name].hist(ax=ax,facecolor=\"0.5\",edgecolor=None,alpha=0.5)\n",
    "    obs_en[-1].loc[:,name].hist(ax=ax,facecolor=\"b\",edgecolor=None,alpha=0.5)\n",
    "    ylim = ax.get_ylim()\n",
    "    ax.plot([truth,truth],ylim,\"r--\")\n",
    "    ax.set_yticklabels([])\n",
    "    ax.set_title(name)\n",
    "plt.savefig(os.path.join(m_d,\"forecasts.pdf\"))\n",
    "plt.show()"
   ]
  },
  {
   "cell_type": "code",
   "execution_count": null,
   "metadata": {},
   "outputs": [],
   "source": []
  }
 ],
 "metadata": {
  "kernelspec": {
   "display_name": "Python 3",
   "language": "python",
   "name": "python3"
  },
  "language_info": {
   "codemirror_mode": {
    "name": "ipython",
    "version": 3
   },
   "file_extension": ".py",
   "mimetype": "text/x-python",
   "name": "python",
   "nbconvert_exporter": "python",
   "pygments_lexer": "ipython3",
   "version": "3.7.1"
  }
 },
 "nbformat": 4,
 "nbformat_minor": 2
}
